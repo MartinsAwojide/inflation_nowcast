{
 "cells": [
  {
   "cell_type": "code",
   "execution_count": null,
   "id": "b822b6df",
   "metadata": {},
   "outputs": [],
   "source": [
    "# import libraries"
   ]
  },
  {
   "cell_type": "code",
   "execution_count": null,
   "id": "b1e1f387",
   "metadata": {},
   "outputs": [],
   "source": [
    "# get full data set \n",
    "\n",
    "# inflation (2011 - Mar 2025)\n",
    "\n",
    "# get rescaled trends dataset\n",
    "\n"
   ]
  },
  {
   "cell_type": "markdown",
   "id": "9528f0eb",
   "metadata": {},
   "source": [
    "## Baseline Model"
   ]
  },
  {
   "cell_type": "code",
   "execution_count": null,
   "id": "f873cf16",
   "metadata": {},
   "outputs": [],
   "source": []
  }
 ],
 "metadata": {
  "kernelspec": {
   "display_name": "inflation_nowcasting",
   "language": "python",
   "name": "python3"
  },
  "language_info": {
   "name": "python",
   "version": "3.10.17"
  }
 },
 "nbformat": 4,
 "nbformat_minor": 5
}
