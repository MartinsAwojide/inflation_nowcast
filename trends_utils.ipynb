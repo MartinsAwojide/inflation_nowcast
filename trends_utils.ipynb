{
 "cells": [
  {
   "cell_type": "code",
   "execution_count": null,
   "id": "f4e1826a",
   "metadata": {},
   "outputs": [],
   "source": [
    "# Script for data retrieval functions for NG and state-wise"
   ]
  },
  {
   "cell_type": "code",
   "execution_count": null,
   "id": "de401464",
   "metadata": {},
   "outputs": [],
   "source": [
    "# libraries\n"
   ]
  },
  {
   "cell_type": "code",
   "execution_count": 5,
   "id": "6caa8964",
   "metadata": {},
   "outputs": [],
   "source": [
    "## Proxy Setup\n",
    "# swift = ProxyInterface(countries=[\"US\", \"UK\"], protocol=\"http\", autoRotate=True, autoUpdate=True)\n",
    "# print(swift.get().as_string())"
   ]
  },
  {
   "cell_type": "code",
   "execution_count": 27,
   "id": "fb34a56b",
   "metadata": {},
   "outputs": [],
   "source": [
    "from swiftshadow import QuickProxy\n",
    "\n",
    "quick_proxy = f'\"http://{QuickProxy(protocol=\"http\")[0]}\"'\n",
    "# print(quick_proxy)"
   ]
  },
  {
   "cell_type": "code",
   "execution_count": 5,
   "id": "23ce4802",
   "metadata": {},
   "outputs": [],
   "source": [
    "# Variables and API Initialization"
   ]
  },
  {
   "cell_type": "code",
   "execution_count": null,
   "id": "c9093462",
   "metadata": {},
   "outputs": [],
   "source": [
    "# Interest Over Time for one keyword (topic) at a time for NG based on start and end date\n",
    "\n",
    "def trend_data_one_keyword(keyword, geo='NG', timeframe=''):\n",
    "\n",
    "    df = tr.interest_over_time(keyword)\n",
    "    df.to_csv(f\"{keyword}.csv\", index=False)\n",
    "\n",
    "    return df"
   ]
  },
  {
   "cell_type": "code",
   "execution_count": null,
   "id": "19113430",
   "metadata": {},
   "outputs": [],
   "source": [
    "# Get multiple dataframes of trends of single keywords\n",
    "# and return a list of dataframes\n",
    "\n",
    "def multiple_trends(list_of_keywords, geo='NG', timeframe=''):\n",
    "\n",
    "    return NotImplementedError"
   ]
  },
  {
   "cell_type": "code",
   "execution_count": null,
   "id": "e9b7409c",
   "metadata": {},
   "outputs": [],
   "source": [
    "# Combine multiple dataframes for different keywords into one\n",
    "\n",
    "def combine_dfs(list_of_df):\n",
    "\n",
    "    return NotImplementedError"
   ]
  }
 ],
 "metadata": {
  "kernelspec": {
   "display_name": "inflation_nowcasting",
   "language": "python",
   "name": "python3"
  },
  "language_info": {
   "codemirror_mode": {
    "name": "ipython",
    "version": 3
   },
   "file_extension": ".py",
   "mimetype": "text/x-python",
   "name": "python",
   "nbconvert_exporter": "python",
   "pygments_lexer": "ipython3",
   "version": "3.10.16"
  }
 },
 "nbformat": 4,
 "nbformat_minor": 5
}
