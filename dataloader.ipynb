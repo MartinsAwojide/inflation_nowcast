{
 "cells": [
  {
   "cell_type": "code",
   "execution_count": null,
   "id": "593dca59",
   "metadata": {},
   "outputs": [],
   "source": [
    "# imports\n",
    "\n"
   ]
  },
  {
   "cell_type": "code",
   "execution_count": null,
   "id": "cf585807",
   "metadata": {},
   "outputs": [],
   "source": [
    "# import function definitions from other notebook\n",
    "import ipynb\n",
    "\n",
    "# full import (full notebook import)\n",
    "from ipynb.fs.full.another_notebook import your_function\n",
    "\n",
    "# function definition import\n",
    "from ipynb.fs.defs.another_notebook import your_function"
   ]
  }
 ],
 "metadata": {
  "kernelspec": {
   "display_name": "inflation_nowcasting",
   "language": "python",
   "name": "python3"
  },
  "language_info": {
   "name": "python",
   "version": "3.10.16"
  }
 },
 "nbformat": 4,
 "nbformat_minor": 5
}
