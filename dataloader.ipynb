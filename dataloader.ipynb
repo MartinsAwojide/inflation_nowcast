{
 "cells": [
  {
   "cell_type": "code",
   "execution_count": 1,
   "id": "593dca59",
   "metadata": {},
   "outputs": [],
   "source": [
    "# import necessary functions\n",
    "\n",
    "\n",
    "# data and compute libraries\n",
    "import pandas as pd\n",
    "\n",
    "# graphing libraries\n",
    "import matplotlib.pyplot as plt\n",
    "\n",
    "# other visuals\n",
    "import squarify\n",
    "\n",
    "# libraries for printing markdown tables\n",
    "\n",
    "# mapping libraries"
   ]
  },
  {
   "cell_type": "code",
   "execution_count": 2,
   "id": "cf585807",
   "metadata": {},
   "outputs": [],
   "source": [
    "# # import function definitions from other notebook\n",
    "# import ipynb\n",
    "\n",
    "# # full import (full notebook import)\n",
    "# from ipynb.fs.full.another_notebook import your_function\n",
    "\n",
    "# # function definition import\n",
    "# from ipynb.fs.defs.another_notebook import your_function"
   ]
  },
  {
   "cell_type": "code",
   "execution_count": null,
   "id": "cd0e14a2",
   "metadata": {},
   "outputs": [],
   "source": []
  },
  {
   "cell_type": "code",
   "execution_count": null,
   "id": "f1876fc8",
   "metadata": {},
   "outputs": [],
   "source": []
  },
  {
   "cell_type": "code",
   "execution_count": null,
   "id": "8d151ce9",
   "metadata": {},
   "outputs": [],
   "source": []
  },
  {
   "cell_type": "code",
   "execution_count": null,
   "id": "ed4bc114",
   "metadata": {},
   "outputs": [],
   "source": []
  },
  {
   "cell_type": "code",
   "execution_count": null,
   "id": "f15db0bd",
   "metadata": {},
   "outputs": [],
   "source": []
  }
 ],
 "metadata": {
  "kernelspec": {
   "display_name": "inflation_nowcasting",
   "language": "python",
   "name": "python3"
  },
  "language_info": {
   "codemirror_mode": {
    "name": "ipython",
    "version": 3
   },
   "file_extension": ".py",
   "mimetype": "text/x-python",
   "name": "python",
   "nbconvert_exporter": "python",
   "pygments_lexer": "ipython3",
   "version": "3.10.16"
  }
 },
 "nbformat": 4,
 "nbformat_minor": 5
}
