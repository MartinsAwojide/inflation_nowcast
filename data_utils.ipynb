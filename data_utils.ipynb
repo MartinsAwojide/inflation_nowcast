{
 "cells": [
  {
   "cell_type": "code",
   "execution_count": null,
   "id": "00982f34",
   "metadata": {},
   "outputs": [],
   "source": [
    "# import necessary functions\n",
    "\n",
    "# graphing libraries\n",
    "# libraries for printing markdown tables\n",
    "# mapping libraries"
   ]
  }
 ],
 "metadata": {
  "language_info": {
   "name": "python"
  }
 },
 "nbformat": 4,
 "nbformat_minor": 5
}
